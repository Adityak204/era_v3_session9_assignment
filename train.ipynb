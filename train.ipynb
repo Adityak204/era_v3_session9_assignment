{
 "cells": [
  {
   "cell_type": "code",
   "execution_count": 22,
   "metadata": {},
   "outputs": [
    {
     "name": "stdout",
     "output_type": "stream",
     "text": [
      "2024-12-30 17:25:45 | INFO | Logging setup complete. Logs will be saved to: /home/ec2-user/ebs/volumes/era_session9/training_20241230_172545.log\n",
      "2024-12-30 17:25:45 | INFO | Starting training with configuration:\n",
      "2024-12-30 17:25:45 | INFO | PyTorch version: 2.5.1\n",
      "2024-12-30 17:25:45 | INFO | Logging setup complete. Logs will be saved to: /home/ec2-user/ebs/volumes/era_session9/training_20241230_172545.log\n",
      "2024-12-30 17:25:45 | INFO | Starting training with configuration:\n",
      "2024-12-30 17:25:45 | INFO | PyTorch version: 2.5.1\n",
      "2024-12-30 17:25:45 | INFO | Logging setup complete. Logs will be saved to: /home/ec2-user/ebs/volumes/era_session9/training_20241230_172545.log\n",
      "2024-12-30 17:25:45 | INFO | Starting training with configuration:\n",
      "2024-12-30 17:25:45 | INFO | PyTorch version: 2.5.1\n",
      "2024-12-30 17:25:45 | INFO | CUDA available: True\n",
      "2024-12-30 17:25:45 | INFO | CUDA device count: 4\n",
      "2024-12-30 17:25:45 | INFO | CUDA available: True\n",
      "2024-12-30 17:25:45 | INFO | CUDA device count: 4\n",
      "2024-12-30 17:25:45 | INFO | CUDA available: True\n",
      "2024-12-30 17:25:45 | INFO | CUDA device count: 4\n",
      "2024-12-30 17:25:45 | INFO | CUDA devices: ['NVIDIA L4', 'NVIDIA L4', 'NVIDIA L4', 'NVIDIA L4']\n",
      "2024-12-30 17:25:45 | INFO | CUDA devices: ['NVIDIA L4', 'NVIDIA L4', 'NVIDIA L4', 'NVIDIA L4']\n",
      "2024-12-30 17:25:45 | INFO | CUDA devices: ['NVIDIA L4', 'NVIDIA L4', 'NVIDIA L4', 'NVIDIA L4']\n",
      "2024-12-30 17:25:45 | INFO | Model configuration:\n",
      "2024-12-30 17:25:45 | INFO | Learning rate: 0.156\n",
      "2024-12-30 17:25:45 | INFO | Batch size: 256\n",
      "2024-12-30 17:25:45 | INFO | Number of workers: 16\n",
      "2024-12-30 17:25:45 | INFO | Max epochs: 40\n",
      "2024-12-30 17:25:45 | INFO | Starting training\n",
      "2024-12-30 17:25:45 | INFO | Model configuration:\n",
      "2024-12-30 17:25:45 | INFO | Learning rate: 0.156\n",
      "2024-12-30 17:25:45 | INFO | Batch size: 256\n",
      "2024-12-30 17:25:45 | INFO | Number of workers: 16\n",
      "2024-12-30 17:25:45 | INFO | Max epochs: 40\n",
      "2024-12-30 17:25:45 | INFO | Starting training\n",
      "2024-12-30 17:25:45 | INFO | Model configuration:\n",
      "2024-12-30 17:25:45 | INFO | Learning rate: 0.156\n",
      "2024-12-30 17:25:45 | INFO | Batch size: 256\n",
      "2024-12-30 17:25:45 | INFO | Number of workers: 16\n",
      "2024-12-30 17:25:45 | INFO | Max epochs: 40\n",
      "2024-12-30 17:25:45 | INFO | Starting training\n",
      "2024-12-30 17:25:56 | INFO | Validation metrics - Loss: 38.1093, Accuracy: 0.0000\n",
      "2024-12-30 17:25:56 | INFO | Validation metrics - Loss: 38.1801, Accuracy: 0.0000\n",
      "2024-12-30 17:25:56 | INFO | Validation metrics - Loss: 37.9635, Accuracy: 0.0000\n",
      "2024-12-30 17:26:01 | INFO | \n",
      "==================== Epoch 0 ====================\n",
      "2024-12-30 17:26:01 | INFO | \n",
      "==================== Epoch 0 ====================\n",
      "2024-12-30 17:26:01 | INFO | \n",
      "==================== Epoch 0 ====================\n",
      "2024-12-30 17:42:01 | INFO | Validation metrics - Loss: 5.6193, Accuracy: 0.0490\n",
      "2024-12-30 17:42:01 | INFO | Training metrics - Loss: 6.3272, Accuracy: 0.0174, LR: 0.006401\n",
      "2024-12-30 17:42:01 | INFO | Validation metrics - Loss: 5.5999, Accuracy: 0.0458\n",
      "2024-12-30 17:42:01 | INFO | Training metrics - Loss: 6.3268, Accuracy: 0.0172, LR: 0.006401\n",
      "2024-12-30 17:42:02 | INFO | Validation metrics - Loss: 5.6309, Accuracy: 0.0469\n",
      "2024-12-30 17:42:02 | INFO | Training metrics - Loss: 6.3260, Accuracy: 0.0178, LR: 0.006401\n",
      "2024-12-30 17:42:02 | INFO | \n",
      "==================== Epoch 1 ====================\n",
      "2024-12-30 17:42:02 | INFO | \n",
      "==================== Epoch 1 ====================\n",
      "2024-12-30 17:42:02 | INFO | \n",
      "==================== Epoch 1 ====================\n"
     ]
    }
   ],
   "source": [
    "!cat /home/ec2-user/ebs/volumes/era_session9/training_20241230_172545.log"
   ]
  },
  {
   "cell_type": "code",
   "execution_count": 21,
   "metadata": {},
   "outputs": [
    {
     "name": "stdout",
     "output_type": "stream",
     "text": [
      "Mon Dec 30 17:42:47 2024       \n",
      "+-----------------------------------------------------------------------------------------+\n",
      "| NVIDIA-SMI 560.35.03              Driver Version: 560.35.03      CUDA Version: 12.6     |\n",
      "|-----------------------------------------+------------------------+----------------------+\n",
      "| GPU  Name                 Persistence-M | Bus-Id          Disp.A | Volatile Uncorr. ECC |\n",
      "| Fan  Temp   Perf          Pwr:Usage/Cap |           Memory-Usage | GPU-Util  Compute M. |\n",
      "|                                         |                        |               MIG M. |\n",
      "|=========================================+========================+======================|\n",
      "|   0  NVIDIA L4                      On  |   00000000:38:00.0 Off |                    0 |\n",
      "| N/A   78C    P0             75W /   72W |   18352MiB /  23034MiB |     99%      Default |\n",
      "|                                         |                        |                  N/A |\n",
      "+-----------------------------------------+------------------------+----------------------+\n",
      "|   1  NVIDIA L4                      On  |   00000000:3A:00.0 Off |                    0 |\n",
      "| N/A   71C    P0             70W /   72W |   17644MiB /  23034MiB |    100%      Default |\n",
      "|                                         |                        |                  N/A |\n",
      "+-----------------------------------------+------------------------+----------------------+\n",
      "|   2  NVIDIA L4                      On  |   00000000:3C:00.0 Off |                    0 |\n",
      "| N/A   71C    P0             69W /   72W |   17644MiB /  23034MiB |    100%      Default |\n",
      "|                                         |                        |                  N/A |\n",
      "+-----------------------------------------+------------------------+----------------------+\n",
      "|   3  NVIDIA L4                      On  |   00000000:3E:00.0 Off |                    0 |\n",
      "| N/A   70C    P0             71W /   72W |   17644MiB /  23034MiB |     98%      Default |\n",
      "|                                         |                        |                  N/A |\n",
      "+-----------------------------------------+------------------------+----------------------+\n",
      "                                                                                         \n",
      "+-----------------------------------------------------------------------------------------+\n",
      "| Processes:                                                                              |\n",
      "|  GPU   GI   CI        PID   Type   Process name                              GPU Memory |\n",
      "|        ID   ID                                                               Usage      |\n",
      "|=========================================================================================|\n",
      "|    0   N/A  N/A     16698      C   /opt/conda/envs/pytorch/bin/python           4472MiB |\n",
      "|    0   N/A  N/A     91553      C   python                                      13768MiB |\n",
      "|    1   N/A  N/A     16698      C   /opt/conda/envs/pytorch/bin/python           3908MiB |\n",
      "|    1   N/A  N/A     91678      C   /opt/conda/envs/pytorch/bin/python          13624MiB |\n",
      "|    2   N/A  N/A     16698      C   /opt/conda/envs/pytorch/bin/python           3908MiB |\n",
      "|    2   N/A  N/A     91679      C   /opt/conda/envs/pytorch/bin/python          13624MiB |\n",
      "|    3   N/A  N/A     16698      C   /opt/conda/envs/pytorch/bin/python           3908MiB |\n",
      "|    3   N/A  N/A     91680      C   /opt/conda/envs/pytorch/bin/python          13624MiB |\n",
      "+-----------------------------------------------------------------------------------------+\n"
     ]
    }
   ],
   "source": [
    "!nvidia-smi"
   ]
  },
  {
   "cell_type": "code",
   "execution_count": 2,
   "metadata": {},
   "outputs": [],
   "source": [
    "import json\n",
    "import numpy as np\n",
    "import pandas as pd\n",
    "import matplotlib.pyplot as plt\n",
    "from PIL import Image\n",
    "import warnings\n",
    "warnings.filterwarnings('ignore')\n",
    "import os\n",
    "import time\n",
    "\n",
    "# Import PyTorch libraries\n",
    "import torch\n",
    "import torchvision\n",
    "import torchvision.transforms as transforms\n",
    "import torchvision.datasets as datasets\n",
    "from torch.utils.data import DataLoader\n",
    "import torch.nn as nn\n",
    "import torch.optim as optim\n",
    "import torch.nn.functional as F\n",
    "from torchsummary import summary\n",
    "from torch.optim.lr_scheduler import ReduceLROnPlateau, OneCycleLR\n",
    "from tqdm import tqdm\n",
    "import copy\n",
    "import multiprocessing\n",
    "\n",
    "# Import custom libraries\n",
    "from src.classifier import ResNet, Bottleneck\n",
    "from src.utils import train, test, seed_everything\n",
    "from src.trainer import Trainer"
   ]
  },
  {
   "cell_type": "markdown",
   "metadata": {},
   "source": [
    "## Model Instantiated"
   ]
  },
  {
   "cell_type": "code",
   "execution_count": 19,
   "metadata": {},
   "outputs": [],
   "source": [
    "device = ('cuda' if torch.cuda.is_available() else 'cpu')\n",
    "seed_everything(42)\n",
    "\n",
    "resnet_model = ResNet(Bottleneck, [3, 4, 6, 3]).to(device)\n",
    "\n",
    "resnet_model_exp = copy.deepcopy(resnet_model)\n",
    "resnet_model_exp = nn.DataParallel(resnet_model_exp)\n",
    "resnet_model_exp = resnet_model_exp.to(device)"
   ]
  },
  {
   "cell_type": "markdown",
   "metadata": {},
   "source": [
    "## LR Finder"
   ]
  },
  {
   "cell_type": "code",
   "execution_count": 14,
   "metadata": {},
   "outputs": [],
   "source": [
    "train_transformation = transforms.Compose(\n",
    "        [\n",
    "            transforms.ToTensor(),\n",
    "            transforms.RandomResizedCrop(\n",
    "                224,\n",
    "                interpolation=transforms.InterpolationMode.BILINEAR,\n",
    "                antialias=True,\n",
    "            ),\n",
    "            transforms.RandomHorizontalFlip(0.5),\n",
    "            # Normalize the pixel values (in R, G, and B channels)\n",
    "            transforms.Normalize(\n",
    "                mean=[0.485, 0.485, 0.406], std=[0.229, 0.224, 0.225]\n",
    "            ),\n",
    "        ]\n",
    "    )\n",
    "\n",
    "train_dataset = torchvision.datasets.ImageFolder(\n",
    "    root=\"/home/ec2-user/ebs/volumes/imagenet/ILSVRC/Data/CLS-LOC/train\", \n",
    "    transform=train_transformation\n",
    ")\n",
    "train_sampler = torch.utils.data.RandomSampler(train_dataset)\n",
    "train_loader = torch.utils.data.DataLoader(\n",
    "    train_dataset,\n",
    "    batch_size=128,\n",
    "    sampler=train_sampler,\n",
    "    num_workers=multiprocessing.cpu_count(),\n",
    "    pin_memory=True,\n",
    ")"
   ]
  },
  {
   "cell_type": "code",
   "execution_count": 17,
   "metadata": {},
   "outputs": [
    {
     "data": {
      "application/vnd.jupyter.widget-view+json": {
       "model_id": "46fb2a5c2fd64a1e86861da3fb4c4fb1",
       "version_major": 2,
       "version_minor": 0
      },
      "text/plain": [
       "  0%|          | 0/100 [00:00<?, ?it/s]"
      ]
     },
     "metadata": {},
     "output_type": "display_data"
    },
    {
     "name": "stdout",
     "output_type": "stream",
     "text": [
      "Learning rate search finished. See the graph with {finder_name}.plot()\n",
      "LR suggestion: steepest gradient\n",
      "Suggested LR: 1.56E-01\n"
     ]
    },
    {
     "data": {
      "image/png": "[encoded data removed]",
      "text/plain": [
       "<Figure size 640x480 with 1 Axes>"
      ]
     },
     "metadata": {},
     "output_type": "display_data"
    }
   ],
   "source": [
    "from torch_lr_finder import LRFinder\n",
    "\n",
    "optimizer = optim.SGD(resnet_model_exp.parameters(), lr=0.01, momentum=0.9, weight_decay=5e-4)\n",
    "criterion = nn.CrossEntropyLoss()\n",
    "\n",
    "amp_config = {\n",
    "    'device_type': 'cuda',\n",
    "    'dtype': torch.float16,\n",
    "}\n",
    "grad_scaler = torch.cuda.amp.GradScaler()\n",
    "\n",
    "lr_finder = LRFinder(\n",
    "    resnet_model_exp, \n",
    "    optimizer, \n",
    "    criterion, \n",
    "    device='cuda',\n",
    "    amp_backend='torch', \n",
    "    amp_config=amp_config, \n",
    "    grad_scaler=grad_scaler\n",
    ")\n",
    "lr_finder.range_test(train_loader, end_lr=1, num_iter=100, step_mode='exp')\n",
    "lr_finder.plot()\n",
    "lr_finder.reset()"
   ]
  },
  {
   "cell_type": "code",
   "execution_count": 20,
   "metadata": {},
   "outputs": [
    {
     "data": {
      "application/vnd.jupyter.widget-view+json": {
       "model_id": "19c98bb8ead2461ea30d0048637483ca",
       "version_major": 2,
       "version_minor": 0
      },
      "text/plain": [
       "  0%|          | 0/100 [00:00<?, ?it/s]"
      ]
     },
     "metadata": {},
     "output_type": "display_data"
    },
    {
     "name": "stdout",
     "output_type": "stream",
     "text": [
      "Learning rate search finished. See the graph with {finder_name}.plot()\n",
      "LR suggestion: steepest gradient\n",
      "Suggested LR: 9.14E-02\n"
     ]
    },
    {
     "data": {
      "image/png": "[encoded data removed]",
      "text/plain": [
       "<Figure size 640x480 with 1 Axes>"
      ]
     },
     "metadata": {},
     "output_type": "display_data"
    }
   ],
   "source": [
    "from torch_lr_finder import LRFinder\n",
    "\n",
    "optimizer = optim.SGD(resnet_model_exp.parameters(), lr=0.01, momentum=0.9, weight_decay=5e-4)\n",
    "criterion = nn.CrossEntropyLoss()\n",
    "\n",
    "amp_config = {\n",
    "    'device_type': 'cuda',\n",
    "    'dtype': torch.float16,\n",
    "}\n",
    "grad_scaler = torch.cuda.amp.GradScaler()\n",
    "\n",
    "lr_finder = LRFinder(\n",
    "    resnet_model_exp, \n",
    "    optimizer, \n",
    "    criterion, \n",
    "    device='cuda',\n",
    "    amp_backend='torch', \n",
    "    amp_config=amp_config, \n",
    "    grad_scaler=grad_scaler\n",
    ")\n",
    "lr_finder.range_test(train_loader, end_lr=.5, num_iter=100, step_mode='exp')\n",
    "lr_finder.plot()\n",
    "lr_finder.reset()"
   ]
  },
  {
   "cell_type": "markdown",
   "metadata": {},
   "source": [
    "## Training"
   ]
  },
  {
   "cell_type": "code",
   "execution_count": 4,
   "metadata": {},
   "outputs": [
    {
     "data": {
      "text/plain": [
       "48"
      ]
     },
     "execution_count": 4,
     "metadata": {},
     "output_type": "execute_result"
    }
   ],
   "source": [
    "## Checking number of cores available\n",
    "import multiprocessing\n",
    "multiprocessing.cpu_count()"
   ]
  },
  {
   "cell_type": "code",
   "execution_count": 5,
   "metadata": {},
   "outputs": [],
   "source": [
    "config = {\n",
    "    \"train_path\" : \"/home/ec2-user/ebs/volumes/imagenet/ILSVRC/Data/CLS-LOC/train\",\n",
    "    \"val_path\" : \"/home/ec2-user/ebs/volumes/imagenet/imagenet_validation\",\n",
    "    \"batch_size\" : 512,\n",
    "    \"num_workers\" : multiprocessing.cpu_count(),\n",
    "    \"epochs\" : 100,\n",
    "    \"artifact_path\" : \"/home/ec2-user/ebs/volumes/era_session9\",\n",
    "    \"log_path\": \"/home/ec2-user/ebs/volumes/era_session9\",\n",
    "}\n",
    "\n",
    "device = ('cuda' if torch.cuda.is_available() else 'cpu')\n",
    "seed_everything(42)\n",
    "\n",
    "optimizer = optim.SGD(resnet_model.parameters(), lr=0.01, momentum=0.9, weight_decay=5e-4)\n",
    "# scheduler = ReduceLROnPlateau(\n",
    "#     optimizer,\n",
    "#     mode=\"max\",\n",
    "#     factor=0.1,\n",
    "#     patience=5,\n",
    "#     verbose=False,\n",
    "#     threshold_mode='rel',\n",
    "#     threshold=0.0001,\n",
    "#     min_lr=1e-6,\n",
    "# )\n",
    "# scheduler = OneCycleLR(optimizer, max_lr=max_lr, steps_per_epoch=len(train_loader), epochs=epochs)"
   ]
  },
  {
   "cell_type": "code",
   "execution_count": 6,
   "metadata": {},
   "outputs": [],
   "source": [
    "scheduler = torch.optim.lr_scheduler.OneCycleLR(\n",
    "    optimizer, \n",
    "    max_lr=0.351,\n",
    "    epochs=config[\"epochs\"], \n",
    "    steps_per_epoch=len(train_loader),\n",
    "    pct_start=0.3, \n",
    "    anneal_strategy='cos', \n",
    "    cycle_momentum=True, \n",
    "    base_momentum=0.85, \n",
    "    max_momentum=0.95, \n",
    "    div_factor=25.0, \n",
    "    final_div_factor=10000.0, \n",
    "    three_phase=False, \n",
    "    last_epoch=-1, \n",
    "    verbose='deprecated'\n",
    "    )"
   ]
  },
  {
   "cell_type": "code",
   "execution_count": null,
   "metadata": {},
   "outputs": [
    {
     "name": "stdout",
     "output_type": "stream",
     "text": [
      "********* Epoch = 1 *********\n"
     ]
    },
    {
     "name": "stderr",
     "output_type": "stream",
     "text": [
      "loss=4.4648 batch_id=2502: 100%|██████████| 2503/2503 [36:25<00:00,  1.15it/s]  "
     ]
    },
    {
     "name": "stdout",
     "output_type": "stream",
     "text": [
      "\n",
      "Epoch 1: Train set: Average loss: 0.0110, Accuracy: 67105/1281167 (5.24%)\n",
      "\n"
     ]
    },
    {
     "name": "stderr",
     "output_type": "stream",
     "text": [
      "\n"
     ]
    },
    {
     "name": "stdout",
     "output_type": "stream",
     "text": [
      "\n",
      "Test set: Average loss: 0.0092, Accuracy: 5791/50000 (11.58%)\n",
      "\n",
      "LR =  [0.014040001236737265]\n",
      "Test accuracy improved from 0.0000 to 11.5820. Saving model...\n",
      "Checkpoint saved to /home/ec2-user/ebs/volumes/era_session9/best_model_epoch_1_acc_11.5820.pth\n",
      "********* Epoch = 2 *********\n"
     ]
    },
    {
     "name": "stderr",
     "output_type": "stream",
     "text": [
      "loss=3.8516 batch_id=2089:  83%|████████▎ | 2090/2503 [35:13<08:59,  1.31s/it]   "
     ]
    }
   ],
   "source": [
    "training = Trainer(\n",
    "    model=resnet_model,\n",
    "    optimizer=optimizer,\n",
    "    scheduler=scheduler,\n",
    "    device=device,\n",
    "    train_path=config[\"train_path\"],\n",
    "    val_path=config[\"val_path\"],\n",
    "    batch_size=config[\"batch_size\"],\n",
    "    num_workers=config[\"num_workers\"],\n",
    "    epochs=config[\"epochs\"],\n",
    "    artifact_path=config[\"artifact_path\"],\n",
    "    log_path=config[\"log_path\"],\n",
    ")\n",
    "training.main()"
   ]
  },
  {
   "cell_type": "code",
   "execution_count": 7,
   "metadata": {},
   "outputs": [
    {
     "data": {
      "text/plain": [
       "512"
      ]
     },
     "execution_count": 7,
     "metadata": {},
     "output_type": "execute_result"
    }
   ],
   "source": [
    "config[\"batch_size\"]"
   ]
  },
  {
   "cell_type": "markdown",
   "metadata": {},
   "source": [
    "## Pytorch lightning code"
   ]
  },
  {
   "cell_type": "code",
   "execution_count": null,
   "metadata": {},
   "outputs": [],
   "source": [
    "import os\n",
    "from typing import Optional, Tuple\n",
    "\n",
    "import torch\n",
    "import torch.nn as nn\n",
    "import torch.nn.functional as F\n",
    "from torch.utils.data import DataLoader\n",
    "from torchvision import transforms, models, datasets\n",
    "from pytorch_lightning import LightningModule, Trainer\n",
    "from pytorch_lightning.callbacks import ModelCheckpoint\n",
    "from pytorch_lightning.loggers import TensorBoardLogger\n",
    "from loguru import logger\n",
    "\n",
    "class ImageNetModule(LightningModule):\n",
    "    def __init__(\n",
    "        self,\n",
    "        learning_rate: float = 0.1,\n",
    "        momentum: float = 0.9,\n",
    "        weight_decay: float = 1e-4,\n",
    "        batch_size: int = 256,\n",
    "        num_workers: int = 16,\n",
    "        max_epochs: int = 90,\n",
    "        data_dir: str = \"path/to/imagenet\",\n",
    "    ):\n",
    "        super().__init__()\n",
    "        self.save_hyperparameters()\n",
    "        \n",
    "        # Model\n",
    "        self.model = models.resnet50(weights=None)\n",
    "        \n",
    "        # Training parameters\n",
    "        self.learning_rate = learning_rate\n",
    "        self.momentum = momentum\n",
    "        self.weight_decay = weight_decay\n",
    "        self.batch_size = batch_size\n",
    "        self.num_workers = num_workers\n",
    "        self.max_epochs = max_epochs\n",
    "        self.data_dir = data_dir\n",
    "        \n",
    "        # Set up transforms\n",
    "        self.train_transforms = transforms.Compose([\n",
    "            transforms.RandomResizedCrop(224),\n",
    "            transforms.RandomHorizontalFlip(),\n",
    "            transforms.ColorJitter(brightness=0.4, contrast=0.4, saturation=0.4),\n",
    "            transforms.ToTensor(),\n",
    "            transforms.Normalize(mean=[0.485, 0.456, 0.406], \n",
    "                              std=[0.229, 0.224, 0.225])\n",
    "        ])\n",
    "        \n",
    "        self.val_transforms = transforms.Compose([\n",
    "            transforms.Resize(256),\n",
    "            transforms.CenterCrop(224),\n",
    "            transforms.ToTensor(),\n",
    "            transforms.Normalize(mean=[0.485, 0.456, 0.406], \n",
    "                              std=[0.229, 0.224, 0.225])\n",
    "        ])\n",
    "\n",
    "    def forward(self, x):\n",
    "        return self.model(x)\n",
    "\n",
    "    def training_step(self, batch, batch_idx):\n",
    "        images, labels = batch\n",
    "        outputs = self(images)\n",
    "        loss = F.cross_entropy(outputs, labels)\n",
    "        \n",
    "        # Calculate accuracy\n",
    "        _, predicted = torch.max(outputs.data, 1)\n",
    "        correct = (predicted == labels).sum().item()\n",
    "        accuracy = correct / labels.size(0)\n",
    "        \n",
    "        # Log metrics\n",
    "        self.log('train_loss', loss, on_step=True, on_epoch=True)\n",
    "        self.log('train_acc', accuracy, on_step=True, on_epoch=True)\n",
    "        \n",
    "        # Logging with loguru\n",
    "        if batch_idx % 100 == 0:\n",
    "            logger.info(f\"Training - Epoch: {self.current_epoch}, Batch: {batch_idx}, \"\n",
    "                       f\"Loss: {loss:.4f}, Accuracy: {accuracy:.4f}\")\n",
    "        \n",
    "        return loss\n",
    "\n",
    "    def validation_step(self, batch, batch_idx):\n",
    "        images, labels = batch\n",
    "        outputs = self(images)\n",
    "        loss = F.cross_entropy(outputs, labels)\n",
    "        \n",
    "        # Calculate accuracy\n",
    "        _, predicted = torch.max(outputs.data, 1)\n",
    "        correct = (predicted == labels).sum().item()\n",
    "        accuracy = correct / labels.size(0)\n",
    "        \n",
    "        return {'val_loss': loss, 'val_acc': accuracy}\n",
    "\n",
    "    def validation_epoch_end(self, outputs):\n",
    "        avg_loss = torch.stack([x['val_loss'] for x in outputs]).mean()\n",
    "        avg_acc = sum([x['val_acc'] for x in outputs]) / len(outputs)\n",
    "        \n",
    "        # Log metrics\n",
    "        self.log('val_loss', avg_loss)\n",
    "        self.log('val_acc', avg_acc)\n",
    "        \n",
    "        # Logging with loguru\n",
    "        logger.info(f\"Validation - Epoch: {self.current_epoch}, \"\n",
    "                   f\"Loss: {avg_loss:.4f}, Accuracy: {avg_acc:.4f}\")\n",
    "\n",
    "    def train_dataloader(self):\n",
    "        train_dataset = datasets.ImageFolder(\n",
    "            os.path.join(self.data_dir, 'train'),\n",
    "            transform=self.train_transforms\n",
    "        )\n",
    "        return DataLoader(\n",
    "            train_dataset,\n",
    "            batch_size=self.batch_size,\n",
    "            shuffle=True,\n",
    "            num_workers=self.num_workers,\n",
    "            pin_memory=True\n",
    "        )\n",
    "\n",
    "    def val_dataloader(self):\n",
    "        val_dataset = datasets.ImageFolder(\n",
    "            os.path.join(self.data_dir, 'val'),\n",
    "            transform=self.val_transforms\n",
    "        )\n",
    "        return DataLoader(\n",
    "            val_dataset,\n",
    "            batch_size=self.batch_size,\n",
    "            shuffle=False,\n",
    "            num_workers=self.num_workers,\n",
    "            pin_memory=True\n",
    "        )\n",
    "\n",
    "    def configure_optimizers(self):\n",
    "        optimizer = torch.optim.SGD(\n",
    "            self.parameters(),\n",
    "            lr=self.learning_rate,\n",
    "            momentum=self.momentum,\n",
    "            weight_decay=self.weight_decay\n",
    "        )\n",
    "        \n",
    "        # OneCycleLR scheduler\n",
    "        scheduler = torch.optim.lr_scheduler.OneCycleLR(\n",
    "            optimizer,\n",
    "            max_lr=self.learning_rate,\n",
    "            epochs=self.max_epochs,\n",
    "            steps_per_epoch=len(self.train_dataloader()),\n",
    "            pct_start=0.1,\n",
    "            anneal_strategy='cos'\n",
    "        )\n",
    "        \n",
    "        return {\n",
    "            \"optimizer\": optimizer,\n",
    "            \"lr_scheduler\": {\n",
    "                \"scheduler\": scheduler,\n",
    "                \"interval\": \"step\"\n",
    "            }\n",
    "        }\n",
    "\n",
    "def main():\n",
    "    # Set up logging\n",
    "    logger.add(\"training.log\", rotation=\"100 MB\")\n",
    "    \n",
    "    # Initialize model and trainer\n",
    "    model = ImageNetModule(\n",
    "        learning_rate=0.1,\n",
    "        batch_size=256,\n",
    "        num_workers=16,\n",
    "        max_epochs=90,\n",
    "        data_dir=\"/path/to/imagenet\"\n",
    "    )\n",
    "    \n",
    "    # Callbacks\n",
    "    checkpoint_callback = ModelCheckpoint(\n",
    "        dirpath=\"checkpoints\",\n",
    "        filename=\"resnet50-{epoch:02d}-{val_acc:.2f}\",\n",
    "        monitor=\"val_acc\",\n",
    "        mode=\"max\"\n",
    "    )\n",
    "    \n",
    "    # Initialize trainer\n",
    "    trainer = Trainer(\n",
    "        max_epochs=90,\n",
    "        accelerator=\"gpu\",\n",
    "        devices=4,  # Using all 4 GPUs\n",
    "        strategy=\"ddp\",  # Distributed Data Parallel\n",
    "        precision=16,  # Mixed precision training\n",
    "        callbacks=[checkpoint_callback],\n",
    "        logger=TensorBoardLogger(\"logs/\", name=\"resnet50\"),\n",
    "    )\n",
    "    \n",
    "    # Start training\n",
    "    trainer.fit(model)\n",
    "\n",
    "if __name__ == \"__main__\":\n",
    "    main()"
   ]
  }
 ],
 "metadata": {
  "kernelspec": {
   "display_name": "pytorch",
   "language": "python",
   "name": "python3"
  },
  "language_info": {
   "codemirror_mode": {
    "name": "ipython",
    "version": 3
   },
   "file_extension": ".py",
   "mimetype": "text/x-python",
   "name": "python",
   "nbconvert_exporter": "python",
   "pygments_lexer": "ipython3",
   "version": "3.11.11"
  }
 },
 "nbformat": 4,
 "nbformat_minor": 2
}
